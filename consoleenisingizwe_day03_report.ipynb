{
 "cells": [
  {
   "cell_type": "markdown",
   "id": "f5c68a40",
   "metadata": {},
   "source": [
    "## Strings and files"
   ]
  },
  {
   "cell_type": "code",
   "execution_count": 1,
   "id": "10467d13",
   "metadata": {},
   "outputs": [],
   "source": [
    "string_1 = \"will you be at the meeting tonight?\"\n",
    "string_2 = '\"yes\", he replies'\n"
   ]
  },
  {
   "cell_type": "code",
   "execution_count": 3,
   "id": "167f9e5c",
   "metadata": {},
   "outputs": [
    {
     "name": "stdout",
     "output_type": "stream",
     "text": [
      "will you be at the meeting tonight?\n"
     ]
    }
   ],
   "source": [
    "print(string_1)"
   ]
  },
  {
   "cell_type": "code",
   "execution_count": 4,
   "id": "b00d9565",
   "metadata": {},
   "outputs": [
    {
     "name": "stdout",
     "output_type": "stream",
     "text": [
      "\"yes\", he replies\n"
     ]
    }
   ],
   "source": [
    "print(string_2)"
   ]
  },
  {
   "cell_type": "code",
   "execution_count": 1,
   "id": "0cfe8b9e",
   "metadata": {},
   "outputs": [
    {
     "name": "stdout",
     "output_type": "stream",
     "text": [
      "hello world\n"
     ]
    }
   ],
   "source": [
    "string1 = \"hello\"\n",
    "string2 = \"world\"\n",
    "result = string1 + \" \" + string2\n",
    "print(result)"
   ]
  },
  {
   "cell_type": "code",
   "execution_count": 2,
   "id": "ec176298",
   "metadata": {},
   "outputs": [
    {
     "name": "stdout",
     "output_type": "stream",
     "text": [
      " hi hi hi\n"
     ]
    }
   ],
   "source": [
    "s = \" hi\"\n",
    "print(s * 3)"
   ]
  },
  {
   "cell_type": "markdown",
   "id": "8357249a",
   "metadata": {},
   "source": [
    "## Indexing"
   ]
  },
  {
   "cell_type": "code",
   "execution_count": 5,
   "id": "0e68406e",
   "metadata": {},
   "outputs": [
    {
     "data": {
      "text/plain": [
       "'w'"
      ]
     },
     "execution_count": 5,
     "metadata": {},
     "output_type": "execute_result"
    }
   ],
   "source": [
    "string_1[0]"
   ]
  },
  {
   "cell_type": "code",
   "execution_count": 6,
   "id": "d1792c48",
   "metadata": {},
   "outputs": [
    {
     "data": {
      "text/plain": [
       "'l'"
      ]
     },
     "execution_count": 6,
     "metadata": {},
     "output_type": "execute_result"
    }
   ],
   "source": [
    "string_1[2]"
   ]
  },
  {
   "cell_type": "code",
   "execution_count": 7,
   "id": "9fdd981d",
   "metadata": {},
   "outputs": [
    {
     "name": "stdout",
     "output_type": "stream",
     "text": [
      "The second charater of my string is i\n"
     ]
    }
   ],
   "source": [
    "print( \"The second charater of my string is\", string_1[1])"
   ]
  },
  {
   "cell_type": "code",
   "execution_count": 5,
   "id": "1e829191",
   "metadata": {},
   "outputs": [
    {
     "name": "stdout",
     "output_type": "stream",
     "text": [
      "p\n"
     ]
    }
   ],
   "source": [
    "d = \"python\"\n",
    "print(d[0])"
   ]
  },
  {
   "cell_type": "code",
   "execution_count": 6,
   "id": "f2a47dad",
   "metadata": {},
   "outputs": [
    {
     "name": "stdout",
     "output_type": "stream",
     "text": [
      " CONSOLEE IS GOOD \n"
     ]
    }
   ],
   "source": [
    "text = \" consolee is good \"\n",
    "print(text.upper())\n"
   ]
  },
  {
   "cell_type": "code",
   "execution_count": 7,
   "id": "ef3d8e01",
   "metadata": {},
   "outputs": [
    {
     "name": "stdout",
     "output_type": "stream",
     "text": [
      " consolee is good \n"
     ]
    }
   ],
   "source": [
    "print(text.lower())"
   ]
  },
  {
   "cell_type": "code",
   "execution_count": 8,
   "id": "b0c62f33",
   "metadata": {},
   "outputs": [
    {
     "name": "stdout",
     "output_type": "stream",
     "text": [
      "consolee is good\n"
     ]
    }
   ],
   "source": [
    "print(text.strip())"
   ]
  },
  {
   "cell_type": "code",
   "execution_count": 9,
   "id": "e2a6c48f",
   "metadata": {},
   "outputs": [
    {
     "name": "stdout",
     "output_type": "stream",
     "text": [
      "['consolee', 'is', 'good']\n"
     ]
    }
   ],
   "source": [
    "print(text.split())"
   ]
  },
  {
   "cell_type": "markdown",
   "id": "79413fbd",
   "metadata": {},
   "source": [
    "## Slicing"
   ]
  },
  {
   "cell_type": "code",
   "execution_count": 13,
   "id": "6c3cb4ab",
   "metadata": {},
   "outputs": [
    {
     "name": "stdout",
     "output_type": "stream",
     "text": [
      "will you be at the meeting tonight?\n"
     ]
    },
    {
     "data": {
      "text/plain": [
       "'l o'"
      ]
     },
     "execution_count": 13,
     "metadata": {},
     "output_type": "execute_result"
    }
   ],
   "source": [
    "print(string_1)\n",
    "string_1[2:8:2]"
   ]
  },
  {
   "cell_type": "code",
   "execution_count": 14,
   "id": "58e6e524",
   "metadata": {},
   "outputs": [
    {
     "data": {
      "text/plain": [
       "17"
      ]
     },
     "execution_count": 14,
     "metadata": {},
     "output_type": "execute_result"
    }
   ],
   "source": [
    "len(string_2)"
   ]
  },
  {
   "cell_type": "markdown",
   "id": "1a15c141",
   "metadata": {},
   "source": [
    "## Concatenation"
   ]
  },
  {
   "cell_type": "code",
   "execution_count": 15,
   "id": "8f166517",
   "metadata": {},
   "outputs": [
    {
     "name": "stdout",
     "output_type": "stream",
     "text": [
      "worldhello, \n",
      "hello, world\n"
     ]
    }
   ],
   "source": [
    "my_var_1 = \"hello, \"\n",
    "my_var_2 = 'world'\n",
    "concat = my_var_2 + my_var_1 \n",
    "concat1 = my_var_1 + my_var_2\n",
    "print(concat)\n",
    "print(concat1)\n"
   ]
  },
  {
   "cell_type": "code",
   "execution_count": 10,
   "id": "caf29efe",
   "metadata": {},
   "outputs": [
    {
     "name": "stdout",
     "output_type": "stream",
     "text": [
      "singisingi\n"
     ]
    }
   ],
   "source": [
    "c = \"singi\"\n",
    "d = 2 * c\n",
    "print(d)"
   ]
  },
  {
   "cell_type": "code",
   "execution_count": 19,
   "id": "c5a841ed",
   "metadata": {},
   "outputs": [],
   "source": [
    "?my_var_2.capitalize"
   ]
  },
  {
   "cell_type": "code",
   "execution_count": 20,
   "id": "898969cd",
   "metadata": {},
   "outputs": [],
   "source": [
    "?my_var_2.center"
   ]
  },
  {
   "cell_type": "code",
   "execution_count": 22,
   "id": "4f33a48d",
   "metadata": {},
   "outputs": [
    {
     "data": {
      "text/plain": [
       "'World'"
      ]
     },
     "execution_count": 22,
     "metadata": {},
     "output_type": "execute_result"
    }
   ],
   "source": [
    "my_var_2.capitalize()"
   ]
  },
  {
   "cell_type": "code",
   "execution_count": 26,
   "id": "9e8f29a4",
   "metadata": {},
   "outputs": [],
   "source": [
    "?my_var_2.count"
   ]
  },
  {
   "cell_type": "code",
   "execution_count": 41,
   "id": "f9df9264",
   "metadata": {},
   "outputs": [
    {
     "data": {
      "text/plain": [
       "1"
      ]
     },
     "execution_count": 41,
     "metadata": {},
     "output_type": "execute_result"
    }
   ],
   "source": [
    "my_var_2.count(\"l\")"
   ]
  },
  {
   "cell_type": "code",
   "execution_count": 44,
   "id": "465e99f6",
   "metadata": {},
   "outputs": [],
   "source": [
    "?my_var_2.replace"
   ]
  },
  {
   "cell_type": "code",
   "execution_count": 46,
   "id": "120ea6dd",
   "metadata": {},
   "outputs": [
    {
     "data": {
      "text/plain": [
       "'wortd'"
      ]
     },
     "execution_count": 46,
     "metadata": {},
     "output_type": "execute_result"
    }
   ],
   "source": [
    "my_var_2.replace(\"l\", \"t\" )"
   ]
  },
  {
   "cell_type": "code",
   "execution_count": 2,
   "id": "aa260389",
   "metadata": {},
   "outputs": [
    {
     "name": "stdout",
     "output_type": "stream",
     "text": [
      "command_mode.png\r\n",
      "consoleenisimgizwe\\ -day_01_variables-and-assignment.ipynb\r\n",
      "consoleenisingizwe-day_00_introduction_to_jupyter_notebooks.ipynb\r\n",
      "consoleenisingizwe_dayo2_report.ipynb\r\n",
      "dog.jpg\r\n",
      "edit_mode.png\r\n",
      "Emily\\ (1).png\r\n",
      "Emily.png\r\n",
      "menubar_toolbar.png\r\n",
      "PyPro-SCiDaS-day_01a_introduction_to_python.ipynb\r\n",
      "testfile.txt\r\n",
      "Tutorial_1.ipynb\r\n",
      "Untitled.ipynb\r\n"
     ]
    }
   ],
   "source": [
    "!dir"
   ]
  },
  {
   "cell_type": "code",
   "execution_count": 1,
   "id": "ae948abb",
   "metadata": {},
   "outputs": [],
   "source": [
    "f = open('testfile.txt', 'r')"
   ]
  },
  {
   "cell_type": "code",
   "execution_count": 3,
   "id": "08e8dd91",
   "metadata": {},
   "outputs": [
    {
     "data": {
      "text/plain": [
       "_io.TextIOWrapper"
      ]
     },
     "execution_count": 3,
     "metadata": {},
     "output_type": "execute_result"
    }
   ],
   "source": [
    "type(f)"
   ]
  },
  {
   "cell_type": "code",
   "execution_count": 4,
   "id": "a78105ab",
   "metadata": {},
   "outputs": [
    {
     "data": {
      "text/plain": [
       "['fghij\\n', 'aims class\\n', 'Rwanda 2025\\n', 'this is really cool\\n']"
      ]
     },
     "execution_count": 4,
     "metadata": {},
     "output_type": "execute_result"
    }
   ],
   "source": [
    "f.readlines()"
   ]
  },
  {
   "cell_type": "code",
   "execution_count": 5,
   "id": "3678ad8c",
   "metadata": {},
   "outputs": [
    {
     "data": {
      "text/plain": [
       "''"
      ]
     },
     "execution_count": 5,
     "metadata": {},
     "output_type": "execute_result"
    }
   ],
   "source": [
    "f.read()"
   ]
  },
  {
   "cell_type": "code",
   "execution_count": 6,
   "id": "58a20d48",
   "metadata": {},
   "outputs": [
    {
     "data": {
      "text/plain": [
       "<_io.TextIOWrapper name='testfile.txt' mode='r' encoding='UTF-8'>"
      ]
     },
     "execution_count": 6,
     "metadata": {},
     "output_type": "execute_result"
    }
   ],
   "source": [
    "f"
   ]
  },
  {
   "cell_type": "code",
   "execution_count": 7,
   "id": "4b563406",
   "metadata": {},
   "outputs": [
    {
     "data": {
      "text/plain": [
       "''"
      ]
     },
     "execution_count": 7,
     "metadata": {},
     "output_type": "execute_result"
    }
   ],
   "source": [
    "f.read()"
   ]
  },
  {
   "cell_type": "code",
   "execution_count": 10,
   "id": "eb5fec45",
   "metadata": {},
   "outputs": [],
   "source": [
    "f.close()"
   ]
  },
  {
   "cell_type": "code",
   "execution_count": 12,
   "id": "d0ced2f7",
   "metadata": {},
   "outputs": [],
   "source": [
    "to_write_to_file = open('testfile.txt', 'w')\n",
    "to_write_to_file.write(\"this is thursday\")\n",
    "to_write_to_file.close()"
   ]
  },
  {
   "cell_type": "code",
   "execution_count": 14,
   "id": "8446d6d2",
   "metadata": {},
   "outputs": [
    {
     "data": {
      "text/plain": [
       "'this is thursday'"
      ]
     },
     "execution_count": 14,
     "metadata": {},
     "output_type": "execute_result"
    }
   ],
   "source": [
    "to_write_to_file = open('testfile.txt', 'r')\n",
    "to_write_to_file.readline()"
   ]
  },
  {
   "cell_type": "code",
   "execution_count": 11,
   "id": "ba9a76e5",
   "metadata": {},
   "outputs": [],
   "source": [
    "file = open('con.txt', 'w')\n",
    "file.write(\"I am in good mood\\n\")\n",
    "file.write(\"I am happy for you\\n\")\n",
    "file.write(\"Good luck\")\n",
    "file.close()\n",
    "\n"
   ]
  },
  {
   "cell_type": "code",
   "execution_count": 12,
   "id": "471b6d87",
   "metadata": {},
   "outputs": [
    {
     "data": {
      "text/plain": [
       "['I am in good mood\\n', 'I am happy for you\\n', 'Good luck']"
      ]
     },
     "execution_count": 12,
     "metadata": {},
     "output_type": "execute_result"
    }
   ],
   "source": [
    "file = open(\"con.txt\", \"r\")\n",
    "file.readlines()\n"
   ]
  },
  {
   "cell_type": "code",
   "execution_count": null,
   "id": "53e3ac74",
   "metadata": {},
   "outputs": [],
   "source": []
  }
 ],
 "metadata": {
  "kernelspec": {
   "display_name": "Python 3",
   "language": "python",
   "name": "python3"
  },
  "language_info": {
   "codemirror_mode": {
    "name": "ipython",
    "version": 3
   },
   "file_extension": ".py",
   "mimetype": "text/x-python",
   "name": "python",
   "nbconvert_exporter": "python",
   "pygments_lexer": "ipython3",
   "version": "3.9.2"
  }
 },
 "nbformat": 4,
 "nbformat_minor": 5
}
