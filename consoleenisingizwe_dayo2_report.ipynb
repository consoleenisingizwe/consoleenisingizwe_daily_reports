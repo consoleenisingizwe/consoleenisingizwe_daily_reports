{
 "cells": [
  {
   "cell_type": "markdown",
   "id": "2e584175",
   "metadata": {},
   "source": [
    "### 2.4. Dynamic Typing in Python\n",
    "\n",
    "Python is a dynamically typed language, meaning that the type of a variable is determined at runtime rather than at compile time. In Python, you don't need to declare the type of a variable when you create it. Instead, the type is inferred based on the value assigned to the variable. This allows for more flexibility but also requires careful handling to avoid type-related errors.\n",
    "\n",
    "#### Key Characteristics of Dynamic Typing:\n",
    "\n",
    "- **No Type Declaration**: You simply assign a value to a variable, and Python automatically knows what type it is.\n",
    "    ```python\n",
    "    x = 10        # x is an integer\n",
    "    x = \"hello\"   # Now, x is a string\n",
    "    ```\n",
    "- **Type Flexibility**: The type of a variable can change over its lifetime. You can reassign a variable to a value of a different type without any issues.\n",
    "    ```python\n",
    "    y = 3.14      # y is initially a float\n",
    "    y = True      # Now, y is a boolean\n",
    "    ```\n",
    "- **Memory Management**: Python handles memory management automatically. When you reassign a variable to a new value, the previous value is discarded if it’s no longer referenced elsewhere in the code.\n",
    "\n",
    "#### Pros and Cons of Dynamic Typing:\n",
    "\n",
    "- **Pros**:\n",
    "  - **Flexibility**: You can write more general-purpose code since the type is not fixed.\n",
    "  - **Ease of Use**: Less boilerplate code, as there is no need for explicit type declarations.\n",
    "  \n",
    "- **Cons**:\n",
    "  - **Type-Related Errors**: Since types are determined at runtime, it’s possible to encounter errors if the wrong type is used in an operation.\n",
    "  - **Performance**: Dynamic typing can be slower than static typing because type checks are done at runtime.\n",
    "\n",
    "#### Example:\n",
    "```python\n",
    "# Initially, 'data' is an integer\n",
    "data = 100\n",
    "\n",
    "# Now, 'data' is a string\n",
    "data = \"Dynamic Typing\"\n",
    "\n",
    "# And now 'data' is a list\n",
    "data = [1, 2, 3]\n",
    "\n",
    "# Python handles these changes without any issues\n",
    "```"
   ]
  },
  {
   "cell_type": "code",
   "execution_count": 3,
   "id": "5a7f51e5",
   "metadata": {},
   "outputs": [
    {
     "data": {
      "text/plain": [
       "int"
      ]
     },
     "execution_count": 3,
     "metadata": {},
     "output_type": "execute_result"
    }
   ],
   "source": [
    "data = 100\n",
    "type(data)"
   ]
  },
  {
   "cell_type": "code",
   "execution_count": 4,
   "id": "2c580296",
   "metadata": {},
   "outputs": [
    {
     "data": {
      "text/plain": [
       "str"
      ]
     },
     "execution_count": 4,
     "metadata": {},
     "output_type": "execute_result"
    }
   ],
   "source": [
    "data = \"kigali\"\n",
    "type(data)"
   ]
  },
  {
   "cell_type": "markdown",
   "id": "a84ade69",
   "metadata": {},
   "source": [
    "### 2.5.  Coercion in Python\n",
    "\n",
    "**Coercion** in Python refers to the automatic conversion of one data type to another during operations that involve different types. Python is designed to handle these type conversions in a way that makes the language easier to use and reduces the need for manual type casting.\n",
    "\n",
    "#### Key Points About Coercion:\n",
    "\n",
    "- **Implicit Coercion**: Python automatically converts one data type to another when necessary to perform an operation. This usually happens in arithmetic operations involving different types, like an integer and a float.\n",
    "  - For example, if you add an integer to a float, Python will convert the integer to a float before performing the addition.\n",
    "  \n",
    "- **Explicit Coercion**: While Python handles many conversions automatically, you can also manually convert types using built-in functions like `int()`, `float()`, `str()`, etc. This is known as explicit type casting."
   ]
  },
  {
   "cell_type": "code",
   "execution_count": 5,
   "id": "bdb2cfe2",
   "metadata": {},
   "outputs": [
    {
     "data": {
      "text/plain": [
       "float"
      ]
     },
     "execution_count": 5,
     "metadata": {},
     "output_type": "execute_result"
    }
   ],
   "source": [
    "x = 5        # integer\n",
    "y = 3.2   #float\n",
    "type(x + y)"
   ]
  },
  {
   "cell_type": "code",
   "execution_count": 6,
   "id": "90a7cdef",
   "metadata": {},
   "outputs": [
    {
     "name": "stdout",
     "output_type": "stream",
     "text": [
      "7\n"
     ]
    }
   ],
   "source": [
    "a = 7.9\n",
    "b = int(a)\n",
    "print(b)"
   ]
  },
  {
   "cell_type": "code",
   "execution_count": 7,
   "id": "14d39e48",
   "metadata": {},
   "outputs": [
    {
     "name": "stdout",
     "output_type": "stream",
     "text": [
      "7.9\n"
     ]
    }
   ],
   "source": [
    "c = str(a)\n",
    "type(c)\n",
    "print(c)"
   ]
  },
  {
   "cell_type": "code",
   "execution_count": 12,
   "id": "a8465958",
   "metadata": {},
   "outputs": [
    {
     "name": "stdout",
     "output_type": "stream",
     "text": [
      "I am 25 years old\n"
     ]
    }
   ],
   "source": [
    "age = 25\n",
    "age1=str(age)\n",
    "message = \"I am \" +age1 + \" years old\"\n",
    "print( message )"
   ]
  },
  {
   "cell_type": "markdown",
   "id": "a7d2e221",
   "metadata": {},
   "source": [
    "## 3. Methods associated with variables"
   ]
  },
  {
   "cell_type": "code",
   "execution_count": 13,
   "id": "6607b571",
   "metadata": {},
   "outputs": [],
   "source": [
    " x = 9.9\n",
    "z = \"singi\""
   ]
  },
  {
   "cell_type": "code",
   "execution_count": 14,
   "id": "328bc262",
   "metadata": {},
   "outputs": [
    {
     "name": "stdout",
     "output_type": "stream",
     "text": [
      "['__abs__', '__add__', '__bool__', '__ceil__', '__class__', '__delattr__', '__dir__', '__divmod__', '__doc__', '__eq__', '__float__', '__floor__', '__floordiv__', '__format__', '__ge__', '__getattribute__', '__getformat__', '__getnewargs__', '__gt__', '__hash__', '__init__', '__init_subclass__', '__int__', '__le__', '__lt__', '__mod__', '__mul__', '__ne__', '__neg__', '__new__', '__pos__', '__pow__', '__radd__', '__rdivmod__', '__reduce__', '__reduce_ex__', '__repr__', '__rfloordiv__', '__rmod__', '__rmul__', '__round__', '__rpow__', '__rsub__', '__rtruediv__', '__set_format__', '__setattr__', '__sizeof__', '__str__', '__sub__', '__subclasshook__', '__truediv__', '__trunc__', 'as_integer_ratio', 'conjugate', 'fromhex', 'hex', 'imag', 'is_integer', 'real']\n"
     ]
    }
   ],
   "source": [
    "print(dir(x))"
   ]
  },
  {
   "cell_type": "code",
   "execution_count": 15,
   "id": "1f59ba96",
   "metadata": {},
   "outputs": [
    {
     "data": {
      "text/plain": [
       "<function float.is_integer()>"
      ]
     },
     "execution_count": 15,
     "metadata": {},
     "output_type": "execute_result"
    }
   ],
   "source": [
    "x.is_integer"
   ]
  },
  {
   "cell_type": "code",
   "execution_count": 16,
   "id": "c59ba088",
   "metadata": {},
   "outputs": [
    {
     "data": {
      "text/plain": [
       "0.0"
      ]
     },
     "execution_count": 16,
     "metadata": {},
     "output_type": "execute_result"
    }
   ],
   "source": [
    "x.imag"
   ]
  },
  {
   "cell_type": "code",
   "execution_count": 17,
   "id": "82f27278",
   "metadata": {},
   "outputs": [
    {
     "data": {
      "text/plain": [
       "9.9"
      ]
     },
     "execution_count": 17,
     "metadata": {},
     "output_type": "execute_result"
    }
   ],
   "source": [
    "x.real"
   ]
  },
  {
   "cell_type": "code",
   "execution_count": 18,
   "id": "e9007efe",
   "metadata": {},
   "outputs": [
    {
     "data": {
      "text/plain": [
       "<function float.conjugate()>"
      ]
     },
     "execution_count": 18,
     "metadata": {},
     "output_type": "execute_result"
    }
   ],
   "source": [
    "x.conjugate"
   ]
  },
  {
   "cell_type": "code",
   "execution_count": 19,
   "id": "6a693e89",
   "metadata": {},
   "outputs": [
    {
     "data": {
      "text/plain": [
       "<function float.hex()>"
      ]
     },
     "execution_count": 19,
     "metadata": {},
     "output_type": "execute_result"
    }
   ],
   "source": [
    "x.hex"
   ]
  },
  {
   "cell_type": "code",
   "execution_count": 23,
   "id": "e67cfd41",
   "metadata": {},
   "outputs": [
    {
     "name": "stdout",
     "output_type": "stream",
     "text": [
      "['__add__', '__class__', '__contains__', '__delattr__', '__dir__', '__doc__', '__eq__', '__format__', '__ge__', '__getattribute__', '__getitem__', '__getnewargs__', '__gt__', '__hash__', '__init__', '__init_subclass__', '__iter__', '__le__', '__len__', '__lt__', '__mod__', '__mul__', '__ne__', '__new__', '__reduce__', '__reduce_ex__', '__repr__', '__rmod__', '__rmul__', '__setattr__', '__sizeof__', '__str__', '__subclasshook__', 'capitalize', 'casefold', 'center', 'count', 'encode', 'endswith', 'expandtabs', 'find', 'format', 'format_map', 'index', 'isalnum', 'isalpha', 'isascii', 'isdecimal', 'isdigit', 'isidentifier', 'islower', 'isnumeric', 'isprintable', 'isspace', 'istitle', 'isupper', 'join', 'ljust', 'lower', 'lstrip', 'maketrans', 'partition', 'removeprefix', 'removesuffix', 'replace', 'rfind', 'rindex', 'rjust', 'rpartition', 'rsplit', 'rstrip', 'split', 'splitlines', 'startswith', 'strip', 'swapcase', 'title', 'translate', 'upper', 'zfill']\n"
     ]
    }
   ],
   "source": [
    "print(dir(z))"
   ]
  },
  {
   "cell_type": "markdown",
   "id": "65a95ab0",
   "metadata": {},
   "source": [
    "### 5. User input ( the `input()` function)\n",
    "\n",
    "In Python, the `input()` function is used to capture user input from the console. It pauses the program's execution and waits for the user to type something, which is then returned as a string. This input can be stored in a variable, allowing you to use the entered data later in your code."
   ]
  },
  {
   "cell_type": "code",
   "execution_count": 29,
   "id": "e17a344a",
   "metadata": {},
   "outputs": [
    {
     "name": "stdout",
     "output_type": "stream",
     "text": [
      "Enter your name: singi\n",
      "Hello, singi!\n"
     ]
    }
   ],
   "source": [
    "name = input(\"Enter your name: \")\n",
    "print(\"Hello, \" + name + \"!\")"
   ]
  },
  {
   "cell_type": "code",
   "execution_count": 30,
   "id": "8520de22",
   "metadata": {},
   "outputs": [
    {
     "name": "stdout",
     "output_type": "stream",
     "text": [
      "Enter your age: 56\n",
      "Hello, singi!\n"
     ]
    },
    {
     "data": {
      "text/plain": [
       "str"
      ]
     },
     "execution_count": 30,
     "metadata": {},
     "output_type": "execute_result"
    }
   ],
   "source": [
    "age = input(\"Enter your age: \")\n",
    "print(\"Hello, \" + name + \"!\")\n",
    "type(age)"
   ]
  },
  {
   "cell_type": "code",
   "execution_count": 46,
   "id": "c2487f69",
   "metadata": {},
   "outputs": [
    {
     "name": "stdout",
     "output_type": "stream",
     "text": [
      "sun is lighter above 50000 years\n"
     ]
    }
   ],
   "source": [
    "sun = \"is lighter above\"\n",
    "time = 50000\n",
    "print (\"sun \" + sun+ \"\", str(time) + \" years\")"
   ]
  },
  {
   "cell_type": "code",
   "execution_count": 45,
   "id": "61b81281",
   "metadata": {},
   "outputs": [
    {
     "name": "stdout",
     "output_type": "stream",
     "text": [
      "False\n",
      "True\n"
     ]
    }
   ],
   "source": [
    "var_1 = True\n",
    "var_2 = False\n",
    "var_1 = bool(var_1 * var_2)\n",
    "var_2 = var_1**var_2\n",
    "\n",
    "print( var_1)\n",
    "print(bool(var_2))"
   ]
  },
  {
   "cell_type": "code",
   "execution_count": null,
   "id": "026c0a46",
   "metadata": {},
   "outputs": [],
   "source": [
    "p = "
   ]
  }
 ],
 "metadata": {
  "kernelspec": {
   "display_name": "Python 3",
   "language": "python",
   "name": "python3"
  },
  "language_info": {
   "codemirror_mode": {
    "name": "ipython",
    "version": 3
   },
   "file_extension": ".py",
   "mimetype": "text/x-python",
   "name": "python",
   "nbconvert_exporter": "python",
   "pygments_lexer": "ipython3",
   "version": "3.9.2"
  }
 },
 "nbformat": 4,
 "nbformat_minor": 5
}
